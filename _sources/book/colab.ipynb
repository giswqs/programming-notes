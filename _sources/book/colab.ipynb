{
 "cells": [
  {
   "cell_type": "markdown",
   "id": "8a65b25d",
   "metadata": {},
   "source": [
    "# Google Colab\n",
    "\n",
    "## Google Colab Tips and Tricks\n",
    "\n",
    "1. **Scratchpad Notebook:** https://colab.research.google.com/notebooks/empty.ipynb\n",
    "2. **Open Notebooks from GitHub:** simply replace github.com with githubtocolab.com. It will redirect you to a Colab notebook.\n",
    "3. **Timing Execution of Cell: **hover over the cell run icon and you will get an estimate of the execution time taken\n",
    "4. **Run part of a cell: **Click `Runtime -> Run Selection` button or using the keyboard shortcut `Ctrl + Shift + Enter`\n",
    "5. **Most commonly used shortcuts:**\n",
    "   - Run cell (`Ctrl + Enter`)\n",
    "   - Run cell and add new cell below (`Alt + Enter`)\n",
    "   - Run cell and goto the next cell below (`Shift + Enter`)\n",
    "   - Comment current line (`Ctrl + /`)\n",
    "6. **Jupyter Notebook Keyboard Shortcuts:** Click Tools -> Keyboard shortcuts or Just add `Ctrl + M` before whatever keyboard shortcut you were using in Jupyter. For example\n",
    "   - add a cell above (`Ctrl + M + A`)\n",
    "   - Add a cell below (`Ctrl + M + B`)\n",
    "   - Change cell to code (`Ctrl + M + Y`)\n",
    "   - Change cell to markdown (`Ctrl + M + M`)\n",
    "7. **Jump to Class definition:** press `Ctrl` and then clicking a class name\n",
    "8. **Run bash commands:**\n",
    "   - Download dataset from the web with `!wget <ENTER URL>`\n",
    "   - Install libraries with `!pip install <LIBRARY>`\n",
    "   - Clone a git repository with `!git clone <REPOSITORY URL>`\n",
    "   - Change directory with `!cd`\n",
    "9. **Mount your Google Drive to Colab:**\n",
    "\n",
    "```python\n",
    "from google.colab import drive\n",
    "drive.mount('/content/gdrive')\n",
    "```\n",
    "\n",
    "10. To upload a file (or several) from your computer, run:\n",
    "\n",
    "```python\n",
    "from google.colab import files\n",
    "files.upload()\n",
    "```\n",
    "\n",
    "11. To download a file, run:\n",
    "\n",
    "```python\n",
    "from google.colab import files\n",
    "files.download('path/to/your/file')\n",
    "```\n",
    "\n",
    "12. Run R programs in Google Colab:\n",
    "    You can use R programming language in Google Colab by going to [https://colab.to/r](https://colab.to/r). It will open a new notebook with R set as the kernel instead of Python.\n",
    "13. **“Open in Colab” Badge:** You can add a ‘Open in Colab’ badge to your **README.md** or jupyter notebooks using the following markdown code: [![Open In Colab](https://colab.research.google.com/assets/colab-badge.svg)](https://colab.research.google.com/notebooks/basic_features_overview.ipynb)\n",
    "\n",
    "**References:**\n",
    "\n",
    "- [Google Colab Tips for Power Users](https://amitness.com/2020/06/google-colaboratory-tips/)\n",
    "- [10 tricks for a better Google Colab experience](https://towardsdatascience.com/10-tips-for-a-better-google-colab-experience-33f8fe721b82)"
   ]
  }
 ],
 "metadata": {
  "jupytext": {
   "text_representation": {
    "extension": ".md",
    "format_name": "myst",
    "format_version": 0.13,
    "jupytext_version": "1.11.5"
   }
  },
  "kernelspec": {
   "display_name": "Python 3",
   "language": "python",
   "name": "python3"
  },
  "language_info": {
   "codemirror_mode": {
    "name": "ipython",
    "version": 3
   },
   "file_extension": ".py",
   "mimetype": "text/x-python",
   "name": "python",
   "nbconvert_exporter": "python",
   "pygments_lexer": "ipython3",
   "version": "3.9.12"
  },
  "source_map": [
   12
  ]
 },
 "nbformat": 4,
 "nbformat_minor": 5
}