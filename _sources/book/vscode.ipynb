{
 "cells": [
  {
   "cell_type": "markdown",
   "id": "b8b25f66",
   "metadata": {},
   "source": [
    "# Visual Studio Code\n",
    "\n",
    "## Extensions:\n",
    "\n",
    "- GitLens\n",
    "- Jupyter\n",
    "- Kite AutoComplete\n",
    "- Markdown Shortcuts\n",
    "- Material Icon Theme\n",
    "- Prettier - Code formatter\n",
    "- Pylance\n",
    "- Python\n",
    "- Python Docstring Generator\n",
    "- RST Preview\n",
    "- Visual Studio IntelliCode\n",
    "\n",
    "## Keyboard shortcuts\n",
    "\n",
    "1. **Command Palette:** `Ctrl+Shift+P`\n",
    "2. **Search and open a file:** `Ctrl+P`\n",
    "3. **Go to Symbol:** `Ctrl+Shift+O `\n",
    "4. **Move line up and down:** `Alt+Arrow up/down`\n",
    "5. **Go to line number:** `Ctrl+G`\n",
    "6. **Cut the Entire Line:** `Ctrl+X`\n",
    "7. **Select the entire line:**: Triple-clicking at the line ofthe line\n",
    "8. **Markdown preview:** `Ctrl+K V`\n",
    "9. **Zen Mode:** `View > Appearance > Toggle Zen Mode`\n",
    "10. **Split view:** `View > Editor Layout > Split Up`\n",
    "11. **Edit multiple lines simultaneously**: Hold **Alt** and **click** to add a cursor in the places you want to type or edit the code.\n",
    "\n",
    "## References\n",
    "\n",
    "- [Visual Studio keyboard shortcuts for Windows](https://code.visualstudio.com/shortcuts/keyboard-shortcuts-windows.pdf)\n",
    "- [Visual Studio keyboard shortcuts for macOS](https://code.visualstudio.com/shortcuts/keyboard-shortcuts-macos.pdf)"
   ]
  }
 ],
 "metadata": {
  "jupytext": {
   "text_representation": {
    "extension": ".md",
    "format_name": "myst",
    "format_version": 0.13,
    "jupytext_version": "1.11.5"
   }
  },
  "kernelspec": {
   "display_name": "Python 3",
   "language": "python",
   "name": "python3"
  },
  "language_info": {
   "codemirror_mode": {
    "name": "ipython",
    "version": 3
   },
   "file_extension": ".py",
   "mimetype": "text/x-python",
   "name": "python",
   "nbconvert_exporter": "python",
   "pygments_lexer": "ipython3",
   "version": "3.9.12"
  },
  "source_map": [
   12
  ]
 },
 "nbformat": 4,
 "nbformat_minor": 5
}